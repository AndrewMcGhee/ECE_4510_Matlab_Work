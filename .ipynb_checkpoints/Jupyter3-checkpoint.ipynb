{
 "cells": [
  {
   "cell_type": "code",
   "execution_count": 2,
   "metadata": {},
   "outputs": [
    {
     "ename": "ModuleNotFoundError",
     "evalue": "No module named 'cv2'",
     "output_type": "error",
     "traceback": [
      "\u001b[1;31m---------------------------------------------------------------------------\u001b[0m",
      "\u001b[1;31mModuleNotFoundError\u001b[0m                       Traceback (most recent call last)",
      "Cell \u001b[1;32mIn[2], line 1\u001b[0m\n\u001b[1;32m----> 1\u001b[0m \u001b[38;5;28;01mimport\u001b[39;00m \u001b[38;5;21;01mcv2\u001b[39;00m\n\u001b[0;32m      2\u001b[0m \u001b[38;5;28;01mimport\u001b[39;00m \u001b[38;5;21;01mmatplotlib\u001b[39;00m\u001b[38;5;21;01m.\u001b[39;00m\u001b[38;5;21;01mpyplot\u001b[39;00m \u001b[38;5;28;01mas\u001b[39;00m \u001b[38;5;21;01mplt\u001b[39;00m\n\u001b[0;32m      3\u001b[0m \u001b[38;5;28;01mimport\u001b[39;00m \u001b[38;5;21;01mmatplotlib\u001b[39;00m\n",
      "\u001b[1;31mModuleNotFoundError\u001b[0m: No module named 'cv2'"
     ]
    }
   ],
   "source": [
    "import cv2\n",
    "import matplotlib.pyplot as plt\n",
    "import matplotlib\n",
    "import numpy as np\n",
    "while True:\n",
    "    # Need to make it take picture from folder and not path\n",
    "    girl = cv2.imread('/Users/georgetrupiano/Downloads/HatGirl.jpg') \n",
    "\n",
    "    # Need to make it take picture from folder and not path\n",
    "    castle = cv2.imread('/Users/georgetrupiano/Downloads/AlnwickCastle.jpg') \n",
    "    \n",
    "    castle = cv2.GaussianBlur(castle, (19,19),0) # Does a Gaussian Blurs castle with a 19 by 19 matrix\n",
    "    girlHSV = cv2.cvtColor(girl, cv2.COLOR_BGR2HSV) # Converts to HSV color scheme\n",
    "\n",
    "    # Declares the bounds of the mask which will dictate what colors are detected in the mask\n",
    "    lowerBound = np.array([90, 50, 50], dtype=\"uint8\") #lower limits for BRG values to detect blue\n",
    "    upperBound = np.array([119, 255, 255], dtype=\"uint8\") #upper limits for BRG values to detect blue\n",
    "\n",
    "    girlHSV = cv2.medianBlur(girlHSV,5)\n",
    "    mask = cv2.inRange(girlHSV, lowerBound, upperBound) # Makes a mask that detects blue\n",
    "    \n",
    "    notMask = cv2.bitwise_not(mask) # Inverts the mask so only the the girl is in the photo\n",
    "    cv2.imshow('Mask',notMask)\n",
    "\n",
    "    result = cv2.bitwise_and(girl,girl,mask=notMask) # Uses the mask to only allow the girl to be visible in BRG\n",
    "    cv2.imshow('Only Girl', result)\n",
    "\n",
    "    roi = castle[124:1000,1074:1700] #change values 876,626 and 1000,1700\n",
    "\n",
    "    # bitwise or the mask of girl with roi\n",
    "\n",
    "    hold = cv2.bitwise_or(roi,roi,mask = mask) # Allows the portion of the castle to be cutout in the shape of the girl\n",
    "    \n",
    "    # Allows the girl to be placed in the whole that was cutout using the mask\n",
    "    castleCorner = cv2.bitwise_or(result,hold) \n",
    "    # Overlays the part of the castle image that has the girl in it\n",
    "    castle[124:1000,1074:1700] = castleCorner \n",
    "    cv2.imshow('Castle',castle)\n",
    "\n",
    "    key = cv2.waitKey(1)\n",
    "    # waits and looks to see if key that is pressed is equal to ASCII 27 (Escape)\n",
    "    if key == 27: \n",
    "        cv2.destroyAllWindows()\n",
    "        break"
   ]
  },
  {
   "cell_type": "markdown",
   "metadata": {},
   "source": [
    "Jupyter doesn't allow comments to interupt loops"
   ]
  }
 ],
 "metadata": {
  "kernelspec": {
   "display_name": "Python 3 (ipykernel)",
   "language": "python",
   "name": "python3"
  },
  "language_info": {
   "codemirror_mode": {
    "name": "ipython",
    "version": 3
   },
   "file_extension": ".py",
   "mimetype": "text/x-python",
   "name": "python",
   "nbconvert_exporter": "python",
   "pygments_lexer": "ipython3",
   "version": "3.11.4"
  }
 },
 "nbformat": 4,
 "nbformat_minor": 2
}
