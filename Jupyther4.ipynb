{
 "cells": [
  {
   "cell_type": "code",
   "execution_count": 1,
   "metadata": {},
   "outputs": [],
   "source": [
    "import cv2\n",
    "import matplotlib.pyplot as plt\n",
    "import matplotlib\n",
    "import numpy as np\n",
    "def concat_tile(list_2d):   # Function for concatenating frames\n",
    "    return cv2.vconcat([cv2.hconcat(list_h) for list_h in list_2d])"
   ]
  },
  {
   "cell_type": "code",
   "execution_count": 2,
   "metadata": {},
   "outputs": [
    {
     "name": "stderr",
     "output_type": "stream",
     "text": [
      "2023-10-11 22:36:02.026 Python[84614:1982165] WARNING: AVCaptureDeviceTypeExternal is deprecated for Continuity Cameras. Please use AVCaptureDeviceTypeContinuityCamera and add NSCameraUseContinuityCameraDeviceType to your Info.plist.\n"
     ]
    }
   ],
   "source": [
    "vc = cv2.VideoCapture(0)\n",
    "\n",
    "if vc.isOpened():\n",
    "    rval,image = vc.read()# Makes sure there is an image to be read in order for loop to start\n",
    "\n",
    "else:\n",
    "    rval = False"
   ]
  },
  {
   "cell_type": "code",
   "execution_count": 3,
   "metadata": {},
   "outputs": [],
   "source": [
    "while rval:\n",
    "    if vc.isOpened():\n",
    "        rval, image = vc.read() # Makes sure there is an image to be read in order for loop to continue\n",
    "    \n",
    "    else:\n",
    "        rval = False\n",
    "\n",
    "    image = cv2.flip(image, 1)\n",
    "\n",
    "    grey = image.copy()\n",
    "    grey = cv2.cvtColor(image, cv2.COLOR_BGR2GRAY) # Convert to grey scale color scheme\n",
    "    grey = cv2.cvtColor(grey, cv2.COLOR_GRAY2RGB) # Must be in this color scheme due to the original image being in RGB\n",
    "\n",
    "    edges = image.copy()\n",
    "    edges = cv2.cvtColor(edges, cv2.COLOR_BGR2GRAY)# Convert to grey scale color scheme\n",
    "    edgesBlur = cv2.medianBlur(edges,5) # Blurs the greyscale image using the median\n",
    "    edges = edges - edgesBlur # Subtracts total image from just the features of the image to get the edges\n",
    "    edges = cv2.medianBlur(edges,5) # Blurs to get rid of noise (Salt and Pepper Noise) using median blur\n",
    "    edges = cv2.cvtColor(edges, cv2.COLOR_GRAY2RGB)# Must be in this color scheme due to the original image being in RGB\n",
    "\n",
    "    sharp = image.copy()\n",
    "    sharp = cv2.cvtColor(sharp, cv2.COLOR_BGR2GRAY)# Convert to grey scale color scheme\n",
    "    sharpOriginal = sharp.copy()\n",
    "    sharpBlur = cv2.medianBlur(sharp,5)# Blurs the greyscale image using the median\n",
    "    sharpEdges = sharpOriginal - sharpBlur # Subtracts total image from just the features of the image to get the edges\n",
    "    sharp = sharpOriginal + (6*sharpEdges) # By adding the original image with the exaturated features (edges) of the image\n",
    "    sharp = cv2.cvtColor(sharp, cv2.COLOR_GRAY2RGB) # Must be in this color scheme due to the original image being in RGB\n",
    "\n",
    "\n",
    "    font = cv2.FONT_HERSHEY_SIMPLEX\n",
    "    image = cv2.resize(image, dsize = (0,0), fx = 0.5, fy = 0.5) # Scaling image to allow 4 panels to fit\n",
    "    cv2.putText(image, 'Original', (10,80), font, 3, (0, 255, 0), 2) # Putting text on image \n",
    "\n",
    "    grey = cv2.resize(grey, dsize = (0,0), fx = 0.5, fy = 0.5)# Scaling image to allow 4 panels to fit\n",
    "    cv2.putText(grey, 'Grey Scale', (10,80), font, 3, (0, 255, 0), 2)# Putting text on image \n",
    "\n",
    "    edges = cv2.resize(edges, dsize = (0,0), fx = 0.5, fy = 0.5)# Scaling image to allow 4 panels to fit\n",
    "    cv2.putText(edges, 'Edges', (10,80), font, 3, (0, 255, 0), 2)# Putting text on image \n",
    "\n",
    "    sharp = cv2.resize(sharp, dsize = (0,0), fx = 0.5, fy = 0.5)# Scaling image to allow 4 panels to fit\n",
    "    cv2.putText(sharp, 'Sharpened', (10,80), font, 3, (0, 255, 0), 2)# Putting text on image \n",
    "\n",
    "    allFilters = concat_tile([[image, grey],[edges,sharp]]) # Putting all different images into an array of concatenated images\n",
    "    cv2.imshow('Filters', allFilters)\n",
    "    \n",
    "    key = cv2.waitKey(27)\n",
    "\n",
    "    if key == 27: # exit on ESC (27 is ASCII for ESC)\n",
    "        break\n",
    "\n",
    "vc.release()"
   ]
  },
  {
   "cell_type": "markdown",
   "metadata": {},
   "source": [
    "Jupyter doesn't allow comments to interupt loops"
   ]
  }
 ],
 "metadata": {
  "kernelspec": {
   "display_name": "Python 3",
   "language": "python",
   "name": "python3"
  },
  "language_info": {
   "codemirror_mode": {
    "name": "ipython",
    "version": 3
   },
   "file_extension": ".py",
   "mimetype": "text/x-python",
   "name": "python",
   "nbconvert_exporter": "python",
   "pygments_lexer": "ipython3",
   "version": "3.9.1"
  }
 },
 "nbformat": 4,
 "nbformat_minor": 2
}
