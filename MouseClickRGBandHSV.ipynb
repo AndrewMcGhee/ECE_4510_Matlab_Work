{
 "cells": [
  {
   "cell_type": "code",
   "execution_count": null,
   "metadata": {},
   "outputs": [
    {
     "name": "stdout",
     "output_type": "stream",
     "text": [
      "Image filename to open: ./images/hatgirl.jpg\n",
      "HSV: 99 138 222\n",
      "RGB: 106 186 223\n",
      "HSV: 156 85 15\n",
      "RGB: 13 11 14\n",
      "HSV: 96 250 217\n",
      "HSV: 98 167 223\n",
      "HSV: 99 122 224\n",
      "HSV: 99 162 226\n",
      "HSV: 97 213 223\n",
      "HSV: 97 246 225\n",
      "HSV: 96 254 214\n"
     ]
    }
   ],
   "source": [
    "# To find the range of HSV values in an image, \n",
    "# click on the image at a variety of locations\n",
    "# on the selected color.  Note down the H_min \n",
    "# and H_max values, and S_min and S_max values\n",
    "# over the range.  You can then take \n",
    "# [H_min-10, S_min,S_min] as the lower bound for \n",
    "# the HSV value and [H_max+10, 255, 255] as the\n",
    "# upper bound for the HSV value.\n",
    "\n",
    "import cv2\n",
    "import numpy as np\n",
    "\n",
    "# Mouse click event function\n",
    "def mouseRGB(event, x, y, flags, param):\n",
    "    # Check mouse left button down condition\n",
    "    if event == cv2.EVENT_LBUTTONDOWN:\n",
    "        # Convert to HSV color\n",
    "        image_hsv = cv2.cvtColor(image, cv2.COLOR_BGR2HSV)\n",
    "        colorsH = image_hsv[y,x,0]\n",
    "        colorsS = image_hsv[y,x,1]\n",
    "        colorsV = image_hsv[y,x,2]\n",
    "\n",
    "        # Print the HSV color at the mouse click pixel and display on image\n",
    "        print(\"HSV:\", colorsH, colorsS, colorsV)\n",
    "        strRGB = \"HSV: [\" + str(colorsH) + \" \" + str(colorsS) + \" \" + str(colorsV) + \"]\"\n",
    "        font = cv2.FONT_HERSHEY_SIMPLEX\n",
    "        cv2.putText(image, strRGB,(50,50), font, 1, (255,255,255), 2)\n",
    "        cv2.imshow('mouseRGB',image)\n",
    "\n",
    "    # Check mouse right button down condition\n",
    "    if event == cv2.EVENT_RBUTTONDOWN:\n",
    "        # RGB color\n",
    "        colorsB = image[y,x,0]\n",
    "        colorsG = image[y,x,1]\n",
    "        colorsR = image[y,x,2]\n",
    "\n",
    "        # Print the RGB color at the mouse click pixel and display on image\n",
    "        print(\"RGB:\", colorsR, colorsG, colorsB)\n",
    "        strRGB = \"RGB: [\" + str(colorsR) + \" \" + str(colorsG) + \" \" + str(colorsB) + \"]\"\n",
    "        font = cv2.FONT_HERSHEY_SIMPLEX\n",
    "        cv2.putText(image, strRGB,(50,50), font, 1, (255,255,255), 2)\n",
    "        cv2.imshow('mouseRGB',image)\n",
    "\n",
    "\n",
    "# Read an image, a window and bind the mouse click function to the window\n",
    "file_name = input(\"Image filename to open: \")\n",
    "image_orig = cv2.imread(file_name)\n",
    "cv2.namedWindow('mouseRGB')\n",
    "cv2.setMouseCallback('mouseRGB',mouseRGB)\n",
    "cv2.imshow('mouseRGB',image_orig)\n",
    "\n",
    "# Do until ESC pressed\n",
    "while(1):\n",
    "    # Copy original image\n",
    "    image = image_orig.copy()\n",
    "\n",
    "    if cv2.waitKey(20) & 0xFF == 27:\n",
    "        break\n",
    "\n",
    "# Finish if ESC pressed\n",
    "cv2.destroyAllWindows()"
   ]
  },
  {
   "cell_type": "code",
   "execution_count": null,
   "metadata": {},
   "outputs": [],
   "source": []
  }
 ],
 "metadata": {
  "kernelspec": {
   "display_name": "Python 3",
   "language": "python",
   "name": "python3"
  },
  "language_info": {
   "codemirror_mode": {
    "name": "ipython",
    "version": 3
   },
   "file_extension": ".py",
   "mimetype": "text/x-python",
   "name": "python",
   "nbconvert_exporter": "python",
   "pygments_lexer": "ipython3",
   "version": "3.7.4"
  }
 },
 "nbformat": 4,
 "nbformat_minor": 2
}
